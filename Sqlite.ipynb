{
 "cells": [
  {
   "cell_type": "code",
   "execution_count": 1,
   "id": "db445340",
   "metadata": {},
   "outputs": [],
   "source": [
    "# importing libraries\n",
    "import sqlite3"
   ]
  },
  {
   "cell_type": "code",
   "execution_count": 2,
   "id": "4d6a3785",
   "metadata": {},
   "outputs": [],
   "source": [
    "#create a connection to database\n",
    "conn = sqlite3.connect(\"customer.db\") #create if not exist or connect if exist.\n",
    "\n",
    "# memory database for just delete after code ends\n",
    "# conn = sqlite3.connect(\":memory:\")\n",
    "\n",
    "#to create a cusor so that it will tell database what to do.\n",
    "c = conn.cursor()\n",
    "\n",
    "# create a table\n",
    "# DATATYPES: null, integer, real, text, blob\n",
    "c.execute(\"CREATE TABLE customers(first_name text, last_name text, email text)\")\n",
    "\n",
    "# commit our command\n",
    "conn.commit()\n",
    "\n",
    "#close our connection // does automatically too.\n",
    "conn.close()"
   ]
  },
  {
   "cell_type": "code",
   "execution_count": 3,
   "id": "74e5251b",
   "metadata": {},
   "outputs": [],
   "source": [
    "# insert the data into database\n",
    "conn = sqlite3.connect(\"customer.db\")\n",
    "c = conn.cursor()\n",
    "c.execute(\"INSERT INTO customers VALUES('john', 'elder', 'john@gmail.com')\")\n",
    "conn.commit()\n",
    "conn.close()"
   ]
  },
  {
   "cell_type": "code",
   "execution_count": 4,
   "id": "cbbc64e3",
   "metadata": {},
   "outputs": [],
   "source": [
    "# many inputs to the database\n",
    "conn = sqlite3.connect(\"customer.db\")\n",
    "c = conn.cursor()\n",
    "\n",
    "many_customers = [\n",
    "    ('wes', 'brown','gm'),\n",
    "    ('step','ku','step'),\n",
    "    ('dan','pas','danpas@.com')\n",
    "]\n",
    "\n",
    "c.executemany(\"INSERT INTO customers VALUES(?,?,?)\",many_customers)\n",
    "\n",
    "\n",
    "conn.commit()\n",
    "conn.close()"
   ]
  },
  {
   "cell_type": "code",
   "execution_count": 5,
   "id": "48ddf786",
   "metadata": {},
   "outputs": [
    {
     "name": "stdout",
     "output_type": "stream",
     "text": [
      "[('john', 'elder', 'john@gmail.com'), ('wes', 'brown', 'gm'), ('step', 'ku', 'step'), ('dan', 'pas', 'danpas@.com')] \n",
      "\n"
     ]
    }
   ],
   "source": [
    "# look into the database\n",
    "conn = sqlite3.connect(\"customer.db\")\n",
    "c = conn.cursor()\n",
    "\n",
    "c.execute(\"SELECT * FROM customers\")\n",
    "\n",
    "# print(c.fetchone(), \"\\n\") #only one will display\n",
    "# print(c.fetchmany(3), \"\\n\") # return 3 outputs\n",
    "print(c.fetchall(), \"\\n\") # return all\n",
    "\n",
    "\n",
    "conn.commit()\n",
    "conn.close()"
   ]
  },
  {
   "cell_type": "code",
   "execution_count": 8,
   "id": "30fac01b",
   "metadata": {},
   "outputs": [
    {
     "name": "stdout",
     "output_type": "stream",
     "text": [
      "[(1, 'BOB', 'elder', 'john@gmail.com'), (2, 'wes', 'brown', 'gm'), (3, 'step', 'ku', 'step'), (4, 'dan', 'pas', 'danpas@.com')]\n"
     ]
    }
   ],
   "source": [
    "# primary key is with rowid\n",
    "conn = sqlite3.connect(\"customer.db\")\n",
    "c = conn.cursor()\n",
    "\n",
    "c.execute(\"SELECT rowid, * FROM customers\")\n",
    "print(c.fetchall())\n",
    "\n",
    "\n",
    "conn.commit()\n",
    "conn.close()"
   ]
  },
  {
   "cell_type": "code",
   "execution_count": 25,
   "id": "b37f1fe3",
   "metadata": {},
   "outputs": [
    {
     "name": "stdout",
     "output_type": "stream",
     "text": [
      "[('john',)]\n",
      "[('wes', 'brown', 'gm')]\n"
     ]
    }
   ],
   "source": [
    "# use of where clause\n",
    "\n",
    "conn = sqlite3.connect(\"customer.db\")\n",
    "c = conn.cursor()\n",
    "\n",
    "c.execute(\"SELECT first_name FROM customers WHERE last_name = 'elder'\")\n",
    "print(c.fetchall())\n",
    "\n",
    "\n",
    "#use of LIKE command which help to find silimar characters {\"BR%\": (brown, \"bran\")}\n",
    "c.execute(\"SELECT * FROM customers WHERE last_name LIKE 'br%'\")\n",
    "print(c.fetchall())\n",
    "\n",
    "\n",
    "conn.commit()\n",
    "conn.close()"
   ]
  },
  {
   "cell_type": "code",
   "execution_count": 9,
   "id": "b68595df",
   "metadata": {},
   "outputs": [
    {
     "name": "stdout",
     "output_type": "stream",
     "text": [
      "[(1, 'BOB', 'elder', 'john@gmail.com'), (2, 'wes', 'brown', 'gm'), (3, 'step', 'ku', 'step'), (4, 'dan', 'pas', 'danpas@.com')]\n"
     ]
    }
   ],
   "source": [
    "# update records in the database\n",
    "\n",
    "conn = sqlite3.connect(\"customer.db\")\n",
    "c = conn.cursor()\n",
    "\n",
    "c.execute(\"UPDATE customers SET first_name = 'BOB' WHERE last_name = 'elder'\")\n",
    "c.execute(\"SELECT rowid, * FROM customers\")\n",
    "print(c.fetchall())\n",
    "\n",
    "conn.commit()\n",
    "conn.close()"
   ]
  },
  {
   "cell_type": "code",
   "execution_count": 10,
   "id": "1724134a",
   "metadata": {},
   "outputs": [
    {
     "name": "stdout",
     "output_type": "stream",
     "text": [
      "[(1, 'BOB', 'elder', 'john@gmail.com'), (2, 'wes', 'brown', 'gm'), (4, 'dan', 'pas', 'danpas@.com')]\n"
     ]
    }
   ],
   "source": [
    "# DELETE the record\n",
    "\n",
    "conn = sqlite3.connect(\"customer.db\")\n",
    "c = conn.cursor()\n",
    "\n",
    "c.execute(\"DELETE FROM customers WHERE last_name = 'ku'\")\n",
    "c.execute(\"SELECT rowid, * FROM customers\")\n",
    "print(c.fetchall())\n",
    "\n",
    "conn.commit()\n",
    "conn.close()"
   ]
  },
  {
   "cell_type": "code",
   "execution_count": 16,
   "id": "217c7e2f",
   "metadata": {},
   "outputs": [
    {
     "name": "stdout",
     "output_type": "stream",
     "text": [
      "[(4, 'dan', 'pas', 'danpas@.com'), (2, 'wes', 'brown', 'gm'), (1, 'BOB', 'elder', 'john@gmail.com')]\n"
     ]
    }
   ],
   "source": [
    "# ORDER BY\n",
    "\n",
    "conn = sqlite3.connect(\"customer.db\")\n",
    "c = conn.cursor()\n",
    "\n",
    "c.execute(\"SELECT rowid, * FROM customers ORDER BY rowid DESC\") # ASC OR DESC\n",
    "# c.execute(\"SELECT rowid, * FROM customers\")\n",
    "print(c.fetchall())\n",
    "\n",
    "conn.commit()\n",
    "conn.close()"
   ]
  },
  {
   "cell_type": "code",
   "execution_count": 22,
   "id": "9426b1ea",
   "metadata": {},
   "outputs": [
    {
     "name": "stdout",
     "output_type": "stream",
     "text": [
      "[(2, 'wes', 'brown', 'gm')]\n"
     ]
    }
   ],
   "source": [
    "# AND and OR clauses\n",
    "\n",
    "conn = sqlite3.connect(\"customer.db\")\n",
    "c = conn.cursor()\n",
    "\n",
    "c.execute(\"SELECT rowid, * FROM customers WHERE last_name LIKE 'br%' AND rowid = 3\") # this didnt work as br and rowid=3 does not exist\n",
    "c.execute(\"SELECT rowid, * FROM customers WHERE last_name LIKE 'br%' OR rowid = 3\")\n",
    "print(c.fetchall())\n",
    "\n",
    "conn.commit()\n",
    "conn.close()"
   ]
  },
  {
   "cell_type": "code",
   "execution_count": 23,
   "id": "0315be01",
   "metadata": {},
   "outputs": [
    {
     "name": "stdout",
     "output_type": "stream",
     "text": [
      "[(4, 'dan', 'pas', 'danpas@.com'), (2, 'wes', 'brown', 'gm')]\n"
     ]
    }
   ],
   "source": [
    "# LIMIT command to limit the results limit\n",
    "conn = sqlite3.connect(\"customer.db\")\n",
    "c = conn.cursor()\n",
    "c.execute(\"SELECT rowid, * FROM customers ORDER BY rowid DESC LIMIT 2\")\n",
    "\n",
    "print(c.fetchall())\n",
    "\n",
    "conn.commit()\n",
    "conn.close()"
   ]
  },
  {
   "cell_type": "code",
   "execution_count": 25,
   "id": "641c4f89",
   "metadata": {},
   "outputs": [
    {
     "ename": "OperationalError",
     "evalue": "no such table: customers",
     "output_type": "error",
     "traceback": [
      "\u001b[1;31m---------------------------------------------------------------------------\u001b[0m",
      "\u001b[1;31mOperationalError\u001b[0m                          Traceback (most recent call last)",
      "\u001b[1;32m<ipython-input-25-0c4f42843fe8>\u001b[0m in \u001b[0;36m<module>\u001b[1;34m\u001b[0m\n\u001b[0;32m      3\u001b[0m \u001b[0mc\u001b[0m \u001b[1;33m=\u001b[0m \u001b[0mconn\u001b[0m\u001b[1;33m.\u001b[0m\u001b[0mcursor\u001b[0m\u001b[1;33m(\u001b[0m\u001b[1;33m)\u001b[0m\u001b[1;33m\u001b[0m\u001b[1;33m\u001b[0m\u001b[0m\n\u001b[0;32m      4\u001b[0m \u001b[1;33m\u001b[0m\u001b[0m\n\u001b[1;32m----> 5\u001b[1;33m \u001b[0mc\u001b[0m\u001b[1;33m.\u001b[0m\u001b[0mexecute\u001b[0m\u001b[1;33m(\u001b[0m\u001b[1;34m\"DROP TABLE customers\"\u001b[0m\u001b[1;33m)\u001b[0m\u001b[1;33m\u001b[0m\u001b[1;33m\u001b[0m\u001b[0m\n\u001b[0m\u001b[0;32m      6\u001b[0m \u001b[1;33m\u001b[0m\u001b[0m\n\u001b[0;32m      7\u001b[0m \u001b[0mconn\u001b[0m\u001b[1;33m.\u001b[0m\u001b[0mcommit\u001b[0m\u001b[1;33m(\u001b[0m\u001b[1;33m)\u001b[0m\u001b[1;33m\u001b[0m\u001b[1;33m\u001b[0m\u001b[0m\n",
      "\u001b[1;31mOperationalError\u001b[0m: no such table: customers"
     ]
    }
   ],
   "source": [
    "# DROP a table // delete full table from database\n",
    "conn = sqlite3.connect(\"customer.db\")\n",
    "c = conn.cursor()\n",
    "\n",
    "c.execute(\"DROP TABLE customers\")\n",
    "\n",
    "conn.commit()\n",
    "conn.close()\n",
    "\n",
    "#check\n",
    "conn = sqlite3.connect(\"customer.db\")\n",
    "c = conn.cursor()\n",
    "c.execute(\"SELECT * FROM customers\")\n",
    "\n",
    "print(c.fetchall())\n",
    "\n",
    "conn.commit()\n",
    "conn.close()"
   ]
  },
  {
   "cell_type": "code",
   "execution_count": 26,
   "id": "7efde2ed",
   "metadata": {},
   "outputs": [],
   "source": [
    "## now we can use all these commands with the help of function calling\n",
    "## and call those functions for further uses "
   ]
  },
  {
   "cell_type": "code",
   "execution_count": null,
   "id": "9d07a9fd",
   "metadata": {},
   "outputs": [],
   "source": []
  }
 ],
 "metadata": {
  "kernelspec": {
   "display_name": "Python 3",
   "language": "python",
   "name": "python3"
  },
  "language_info": {
   "codemirror_mode": {
    "name": "ipython",
    "version": 3
   },
   "file_extension": ".py",
   "mimetype": "text/x-python",
   "name": "python",
   "nbconvert_exporter": "python",
   "pygments_lexer": "ipython3",
   "version": "3.7.10"
  }
 },
 "nbformat": 4,
 "nbformat_minor": 5
}
