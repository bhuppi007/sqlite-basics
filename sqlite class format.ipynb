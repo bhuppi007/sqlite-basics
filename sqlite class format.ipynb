{
 "cells": [
  {
   "cell_type": "code",
   "execution_count": 1,
   "id": "224a398d",
   "metadata": {},
   "outputs": [],
   "source": [
    "# load libraries\n",
    "import sqlite3"
   ]
  },
  {
   "cell_type": "code",
   "execution_count": 2,
   "id": "a93bcb0b",
   "metadata": {},
   "outputs": [],
   "source": [
    "class sqlite:\n",
    "    def __init__(self, table_name):\n",
    "        self.table_name = table_name\n",
    "        self.connection = sqlite3.connect(\"database.db\")\n",
    "        self.cursor = self.connection.cursor()\n",
    "        \n",
    "    def create_table(self):\n",
    "        self.cursor.execute(\"CREATE TABLE {}(Id integer(10) primary key, name varchar(20), age integer(3), PhNo integer(12), email varchar(20))\".format(self.table_name))\n",
    "    \n",
    "    def insert_into_table(self, ids, name, age, phno, email):\n",
    "        self.cursor.execute(\"INSERT INTO {} VALUES({},'{}',{},{},'{}')\".format(self.table_name, ids, name, age, phno, email))\n",
    "    \n",
    "    def display_table(self):\n",
    "        self.cursor.execute(\"SELECT * FROM {}\".format(self.table_name))\n",
    "        print(self.cursor.fetchall())\n",
    "        \n",
    "    def delete_from_table(self, input1, input2):\n",
    "        print(\"DELETE FROM {} WHERE '{}' = {}\".format(self.table_name, input1, input2))\n",
    "        self.cursor.execute(\"DELETE FROM {} WHERE {} = {}\".format(self.table_name, input1, input2))\n",
    "        self.cursor.execute(\"SELECT * FROM {}\".format(self.table_name))\n",
    "        print(self.cursor.fetchall())\n",
    "        \n",
    "    def update_from_table(self, place, update, value):\n",
    "        print(\"UPDATE {} SET {} = '{}' WHERE {} = '{}'\".format(self.table_name, place, update ,place, value))\n",
    "        self.cursor.execute(\"UPDATE {} SET {} = '{}' WHERE {} = '{}'\".format(self.table_name, place, update ,place, value))\n",
    "        self.cursor.execute(\"SELECT * FROM {}\".format(self.table_name))\n",
    "        print(self.cursor.fetchall())\n",
    "        \n",
    "    def drop_table(self):\n",
    "        self.cursor.execute(\"DROP TABLE {}\".format(self.table_name))\n",
    "        \n",
    "    def __del__(self):\n",
    "        self.connection.commit()\n",
    "        self.connection.close()\n",
    "        print(\"closed\")"
   ]
  },
  {
   "cell_type": "code",
   "execution_count": 3,
   "id": "cc23d977",
   "metadata": {},
   "outputs": [],
   "source": [
    "# initialize and create table\n",
    "\n",
    "sql = sqlite(\"bhuppi\")\n",
    "sql.create_table()"
   ]
  },
  {
   "cell_type": "code",
   "execution_count": 4,
   "id": "1cbddf21",
   "metadata": {},
   "outputs": [],
   "source": [
    "# insert into values\n",
    "\n",
    "sql.insert_into_table(1, 'ram', 10, 99, 'ram.com')\n",
    "sql.insert_into_table(2, 'shyam', 15, 88, 'shyam.com')\n",
    "sql.insert_into_table(3, 'arya', 20, 77, 'arya.com')\n",
    "sql.insert_into_table(4, 'ria', 25, 66, 'ria.com')\n",
    "sql.insert_into_table(5, 'tin', 30, 55, 'tin.com')"
   ]
  },
  {
   "cell_type": "code",
   "execution_count": 5,
   "id": "eb5e8e23",
   "metadata": {},
   "outputs": [
    {
     "name": "stdout",
     "output_type": "stream",
     "text": [
      "[(1, 'ram', 10, 99, 'ram.com'), (2, 'shyam', 15, 88, 'shyam.com'), (3, 'arya', 20, 77, 'arya.com'), (4, 'ria', 25, 66, 'ria.com'), (5, 'tin', 30, 55, 'tin.com')]\n"
     ]
    }
   ],
   "source": [
    "#display items in the table\n",
    "\n",
    "sql.display_table()"
   ]
  },
  {
   "cell_type": "code",
   "execution_count": 6,
   "id": "aeed086e",
   "metadata": {},
   "outputs": [
    {
     "name": "stdout",
     "output_type": "stream",
     "text": [
      "DELETE FROM bhuppi WHERE 'Id' = 5\n",
      "[(1, 'ram', 10, 99, 'ram.com'), (2, 'shyam', 15, 88, 'shyam.com'), (3, 'arya', 20, 77, 'arya.com'), (4, 'ria', 25, 66, 'ria.com')]\n"
     ]
    }
   ],
   "source": [
    "# delete from the table\n",
    "\n",
    "sql.delete_from_table(\"Id\", 5)"
   ]
  },
  {
   "cell_type": "code",
   "execution_count": 7,
   "id": "ff805415",
   "metadata": {},
   "outputs": [
    {
     "name": "stdout",
     "output_type": "stream",
     "text": [
      "UPDATE bhuppi SET name = 'aya' WHERE name = 'ria'\n",
      "[(1, 'ram', 10, 99, 'ram.com'), (2, 'shyam', 15, 88, 'shyam.com'), (3, 'arya', 20, 77, 'arya.com'), (4, 'aya', 25, 66, 'ria.com')]\n"
     ]
    }
   ],
   "source": [
    "sql.update_from_table(\"name\", \"aya\", \"ria\")"
   ]
  },
  {
   "cell_type": "code",
   "execution_count": 8,
   "id": "06465f28",
   "metadata": {},
   "outputs": [],
   "source": [
    "sql.drop_table()"
   ]
  },
  {
   "cell_type": "code",
   "execution_count": 10,
   "id": "4b98a5c7",
   "metadata": {},
   "outputs": [
    {
     "ename": "OperationalError",
     "evalue": "no such table: bhuppi",
     "output_type": "error",
     "traceback": [
      "\u001b[1;31m---------------------------------------------------------------------------\u001b[0m",
      "\u001b[1;31mOperationalError\u001b[0m                          Traceback (most recent call last)",
      "\u001b[1;32m<ipython-input-10-64305445fbcf>\u001b[0m in \u001b[0;36m<module>\u001b[1;34m\u001b[0m\n\u001b[1;32m----> 1\u001b[1;33m \u001b[0msql\u001b[0m\u001b[1;33m.\u001b[0m\u001b[0mdisplay_table\u001b[0m\u001b[1;33m(\u001b[0m\u001b[1;33m)\u001b[0m\u001b[1;33m\u001b[0m\u001b[1;33m\u001b[0m\u001b[0m\n\u001b[0m",
      "\u001b[1;32m<ipython-input-2-1c37a2e413ff>\u001b[0m in \u001b[0;36mdisplay_table\u001b[1;34m(self)\u001b[0m\n\u001b[0;32m     12\u001b[0m \u001b[1;33m\u001b[0m\u001b[0m\n\u001b[0;32m     13\u001b[0m     \u001b[1;32mdef\u001b[0m \u001b[0mdisplay_table\u001b[0m\u001b[1;33m(\u001b[0m\u001b[0mself\u001b[0m\u001b[1;33m)\u001b[0m\u001b[1;33m:\u001b[0m\u001b[1;33m\u001b[0m\u001b[1;33m\u001b[0m\u001b[0m\n\u001b[1;32m---> 14\u001b[1;33m         \u001b[0mself\u001b[0m\u001b[1;33m.\u001b[0m\u001b[0mcursor\u001b[0m\u001b[1;33m.\u001b[0m\u001b[0mexecute\u001b[0m\u001b[1;33m(\u001b[0m\u001b[1;34m\"SELECT * FROM {}\"\u001b[0m\u001b[1;33m.\u001b[0m\u001b[0mformat\u001b[0m\u001b[1;33m(\u001b[0m\u001b[0mself\u001b[0m\u001b[1;33m.\u001b[0m\u001b[0mtable_name\u001b[0m\u001b[1;33m)\u001b[0m\u001b[1;33m)\u001b[0m\u001b[1;33m\u001b[0m\u001b[1;33m\u001b[0m\u001b[0m\n\u001b[0m\u001b[0;32m     15\u001b[0m         \u001b[0mprint\u001b[0m\u001b[1;33m(\u001b[0m\u001b[0mself\u001b[0m\u001b[1;33m.\u001b[0m\u001b[0mcursor\u001b[0m\u001b[1;33m.\u001b[0m\u001b[0mfetchall\u001b[0m\u001b[1;33m(\u001b[0m\u001b[1;33m)\u001b[0m\u001b[1;33m)\u001b[0m\u001b[1;33m\u001b[0m\u001b[1;33m\u001b[0m\u001b[0m\n\u001b[0;32m     16\u001b[0m \u001b[1;33m\u001b[0m\u001b[0m\n",
      "\u001b[1;31mOperationalError\u001b[0m: no such table: bhuppi"
     ]
    }
   ],
   "source": [
    "sql.display_table()"
   ]
  }
 ],
 "metadata": {
  "kernelspec": {
   "display_name": "Python 3",
   "language": "python",
   "name": "python3"
  },
  "language_info": {
   "codemirror_mode": {
    "name": "ipython",
    "version": 3
   },
   "file_extension": ".py",
   "mimetype": "text/x-python",
   "name": "python",
   "nbconvert_exporter": "python",
   "pygments_lexer": "ipython3",
   "version": "3.7.10"
  }
 },
 "nbformat": 4,
 "nbformat_minor": 5
}
